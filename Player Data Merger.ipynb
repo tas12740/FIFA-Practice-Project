{
 "cells": [
  {
   "cell_type": "code",
   "execution_count": 6,
   "metadata": {},
   "outputs": [],
   "source": [
    "import pandas as pd\n",
    "pd.set_option('display.max_columns', 500)"
   ]
  },
  {
   "cell_type": "code",
   "execution_count": 7,
   "metadata": {},
   "outputs": [],
   "source": [
    "players_full = pd.read_csv('PlayerDataFull.csv')"
   ]
  },
  {
   "cell_type": "code",
   "execution_count": 10,
   "metadata": {},
   "outputs": [],
   "source": [
    "unq_positions = players_full['Best Position'].unique()\n",
    "unq_positions.sort()"
   ]
  },
  {
   "cell_type": "code",
   "execution_count": 11,
   "metadata": {},
   "outputs": [
    {
     "name": "stdout",
     "output_type": "stream",
     "text": [
      "['CAM' 'CB' 'CDM' 'CF' 'CM' 'GK' 'LB' 'LM' 'LW' 'LWB' 'RB' 'RM' 'RW' 'RWB'\n",
      " 'ST']\n"
     ]
    }
   ],
   "source": [
    "print (unq_positions)"
   ]
  },
  {
   "cell_type": "code",
   "execution_count": 37,
   "metadata": {},
   "outputs": [],
   "source": [
    "def get_match(players_full, row):\n",
    "    return players_full[\n",
    "                        (players_full['Acceleration'] == row['Acceleration']) & \n",
    "                        (players_full['Aggression'] == row['Aggression']) &\n",
    "                        (players_full['Agility'] == row['Agility']) &\n",
    "                        (players_full['Balance'] == row['Balance']) &\n",
    "                        (players_full['Ball Control'] == row['Ball Control']) &\n",
    "                        (players_full['Composure'] == row['Composure']) &\n",
    "                        (players_full['Crossing'] == row['Crossing']) &\n",
    "                        (players_full['Curve'] == row['Curve']) &\n",
    "                        (players_full['Dribbling'] == row['Dribbling']) &\n",
    "                        (players_full['FK Accuracy'] == row['FK Accuracy']) &\n",
    "                        (players_full['Finishing'] == row['Finishing']) &\n",
    "                        (players_full['GK Diving'] == row['GK Diving']) & \n",
    "                        (players_full['GK Handling'] == row['GK Handling']) &\n",
    "                        (players_full['GK Kicking'] == row['GK Kicking']) &\n",
    "                        (players_full['GK Positioning'] == row['GK Positioning']) &\n",
    "                        (players_full['GK Reflexes'] == row['GK Reflexes']) &\n",
    "                        (players_full['Heading Accuracy'] == row['Heading Accuracy']) &\n",
    "                        (players_full['Interceptions'] == row['Interceptions']) &\n",
    "                        (players_full['Jumping'] == row['Jumping']) &\n",
    "                        (players_full['Long Passing'] == row['Long Passing']) &\n",
    "                        (players_full['Long Shots'] == row['Long Shots']) &\n",
    "                        (players_full['Marking'] == row['Marking']) &\n",
    "                        (players_full['Penalties'] == row['Penalties']) &\n",
    "                        (players_full['Positioning'] == row['Positioning']) &\n",
    "                        (players_full['Reactions'] == row['Reactions']) &\n",
    "                        (players_full['Short Passing'] == row['Short Passing']) &\n",
    "                        (players_full['Shot Power'] == row['Shot Power']) &\n",
    "                        (players_full['Sliding Tackle'] == row['Sliding Tackle']) &\n",
    "                        (players_full['Sprint Speed'] == row['Sprint Speed']) &\n",
    "                        (players_full['Stamina'] == row['Stamina']) &\n",
    "                        (players_full['Standing Tackle'] == row['Standing Tackle']) &\n",
    "                        (players_full['Strength'] == row['Strength']) &\n",
    "                        (players_full['Vision'] == row['Vision']) &\n",
    "                        (players_full['Volleys'] == row['Volleys'])\n",
    "                    ].index[0]"
   ]
  },
  {
   "cell_type": "code",
   "execution_count": 42,
   "metadata": {},
   "outputs": [
    {
     "name": "stdout",
     "output_type": "stream",
     "text": [
      "CAM: (1314, 36) to do!\n",
      "CB: (2425, 36) to do!\n",
      "CDM: (920, 36) to do!\n",
      "CF: (151, 36) to do!\n",
      "CM: (640, 36) to do!\n",
      "GK: (1346, 36) to do!\n",
      "LB: (534, 36) to do!\n",
      "LM: (436, 36) to do!\n",
      "LW: (307, 36) to do!\n",
      "LWB: (200, 36) to do!\n",
      "RB: (580, 36) to do!\n",
      "RM: (825, 36) to do!\n",
      "RW: (850, 36) to do!\n",
      "RWB: (244, 36) to do!\n",
      "ST: (1674, 36) to do!\n"
     ]
    }
   ],
   "source": [
    "indices = []\n",
    "for k in range(len(unq_positions)):\n",
    "    pos_df = pd.read_csv('./databyposition/' + unq_positions[k] + '.csv')\n",
    "    idx = []\n",
    "    shape = pos_df.shape\n",
    "    print ('{}: {} to do!'.format(unq_positions[k], shape))\n",
    "    for i in range(shape[0]):\n",
    "        row = pos_df.iloc[i, :].astype(dtype='int32')\n",
    "        index_res = get_match(players_full, row)\n",
    "        idx.append(index_res)\n",
    "    indices.append(idx)"
   ]
  },
  {
   "cell_type": "code",
   "execution_count": 45,
   "metadata": {},
   "outputs": [],
   "source": [
    "players_full.iloc[idx,:].tail()\n",
    "for i in range(len(unq_positions)):\n",
    "    players_full.iloc[indices[i],:].to_csv('./databyposition/' + unq_positions[i] + 'full.csv', index=False)"
   ]
  },
  {
   "cell_type": "code",
   "execution_count": null,
   "metadata": {},
   "outputs": [],
   "source": []
  }
 ],
 "metadata": {
  "kernelspec": {
   "display_name": "Python 3",
   "language": "python",
   "name": "python3"
  },
  "language_info": {
   "codemirror_mode": {
    "name": "ipython",
    "version": 3
   },
   "file_extension": ".py",
   "mimetype": "text/x-python",
   "name": "python",
   "nbconvert_exporter": "python",
   "pygments_lexer": "ipython3",
   "version": "3.7.3"
  }
 },
 "nbformat": 4,
 "nbformat_minor": 2
}
