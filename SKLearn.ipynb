{
 "cells": [
  {
   "cell_type": "code",
   "execution_count": 91,
   "metadata": {},
   "outputs": [],
   "source": [
    "# basic imports\n",
    "import pandas as pd\n",
    "import numpy as np\n",
    "import matplotlib.pyplot as plt\n",
    "import seaborn as sns"
   ]
  },
  {
   "cell_type": "code",
   "execution_count": 92,
   "metadata": {},
   "outputs": [],
   "source": [
    "from sklearn.linear_model import LinearRegression, Lasso, LassoCV"
   ]
  },
  {
   "cell_type": "code",
   "execution_count": 93,
   "metadata": {},
   "outputs": [],
   "source": [
    "pd.set_option('display.max_columns', 500)"
   ]
  },
  {
   "cell_type": "code",
   "execution_count": 94,
   "metadata": {},
   "outputs": [],
   "source": [
    "player_data = pd.read_csv('OverallPredictor.csv')"
   ]
  },
  {
   "cell_type": "code",
   "execution_count": 95,
   "metadata": {},
   "outputs": [
    {
     "name": "stdout",
     "output_type": "stream",
     "text": [
      "['CAM' 'CB' 'CDM' 'CF' 'CM' 'GK' 'LB' 'LM' 'LW' 'LWB' 'RB' 'RM' 'RW' 'RWB'\n",
      " 'ST']\n"
     ]
    }
   ],
   "source": [
    "unq_positions = player_data['Best Position'].unique()\n",
    "unq_positions.sort()\n",
    "print (unq_positions)"
   ]
  },
  {
   "cell_type": "code",
   "execution_count": 96,
   "metadata": {},
   "outputs": [],
   "source": [
    "count = 0\n",
    "map_dict = {}\n",
    "for pos in unq_positions:\n",
    "    map_dict[pos] = count\n",
    "    count += 1"
   ]
  },
  {
   "cell_type": "code",
   "execution_count": 97,
   "metadata": {},
   "outputs": [],
   "source": [
    "data_arr = []\n",
    "for pos in unq_positions:\n",
    "    data_arr.append(np.array([], dtype='float32'))"
   ]
  },
  {
   "cell_type": "code",
   "execution_count": 98,
   "metadata": {},
   "outputs": [],
   "source": [
    "for i in range(player_data.shape[0]):\n",
    "    pos = player_data.iloc[i,:]['Best Position']\n",
    "    data_arr[map_dict[pos]] = np.append(data_arr[map_dict[pos]], player_data.iloc[i,:], axis=0)"
   ]
  },
  {
   "cell_type": "code",
   "execution_count": 101,
   "metadata": {},
   "outputs": [
    {
     "ename": "ValueError",
     "evalue": "cannot reshape array of size 48618 into shape (35,37)",
     "output_type": "error",
     "traceback": [
      "\u001b[1;31m---------------------------------------------------------------------------\u001b[0m",
      "\u001b[1;31mValueError\u001b[0m                                Traceback (most recent call last)",
      "\u001b[1;32m<ipython-input-101-282f4f555df7>\u001b[0m in \u001b[0;36m<module>\u001b[1;34m\u001b[0m\n\u001b[0;32m      1\u001b[0m \u001b[1;32mfor\u001b[0m \u001b[0mi\u001b[0m \u001b[1;32min\u001b[0m \u001b[0mrange\u001b[0m\u001b[1;33m(\u001b[0m\u001b[0mlen\u001b[0m\u001b[1;33m(\u001b[0m\u001b[0mdata_arr\u001b[0m\u001b[1;33m)\u001b[0m\u001b[1;33m)\u001b[0m\u001b[1;33m:\u001b[0m\u001b[1;33m\u001b[0m\u001b[1;33m\u001b[0m\u001b[0m\n\u001b[1;32m----> 2\u001b[1;33m     \u001b[0mdata_arr\u001b[0m\u001b[1;33m[\u001b[0m\u001b[0mi\u001b[0m\u001b[1;33m]\u001b[0m \u001b[1;33m=\u001b[0m \u001b[0mnp\u001b[0m\u001b[1;33m.\u001b[0m\u001b[0marray\u001b[0m\u001b[1;33m(\u001b[0m\u001b[0mdata_arr\u001b[0m\u001b[1;33m[\u001b[0m\u001b[0mi\u001b[0m\u001b[1;33m]\u001b[0m\u001b[1;33m)\u001b[0m\u001b[1;33m.\u001b[0m\u001b[0mreshape\u001b[0m\u001b[1;33m(\u001b[0m\u001b[0mlen\u001b[0m\u001b[1;33m(\u001b[0m\u001b[0mdata_arr\u001b[0m\u001b[1;33m[\u001b[0m\u001b[0mi\u001b[0m\u001b[1;33m]\u001b[0m\u001b[1;33m)\u001b[0m\u001b[1;33m//\u001b[0m\u001b[1;36m37\u001b[0m\u001b[1;33m,\u001b[0m\u001b[1;36m37\u001b[0m\u001b[1;33m)\u001b[0m\u001b[1;33m\u001b[0m\u001b[1;33m\u001b[0m\u001b[0m\n\u001b[0m",
      "\u001b[1;31mValueError\u001b[0m: cannot reshape array of size 48618 into shape (35,37)"
     ]
    }
   ],
   "source": [
    "for i in range(len(data_arr)):\n",
    "    data_arr[i] = np.array(data_arr[i]).reshape(len(data_arr[i])//37,37)"
   ]
  },
  {
   "cell_type": "code",
   "execution_count": 102,
   "metadata": {},
   "outputs": [],
   "source": [
    "for i in range(len(data_arr)):\n",
    "    data_arr[i] = pd.DataFrame(data_arr[i], columns=player_data.columns)"
   ]
  },
  {
   "cell_type": "code",
   "execution_count": 103,
   "metadata": {},
   "outputs": [],
   "source": [
    "y_arr = []"
   ]
  },
  {
   "cell_type": "code",
   "execution_count": 104,
   "metadata": {},
   "outputs": [],
   "source": [
    "for i in range(len(data_arr)):\n",
    "    y_arr.append(np.array(data_arr[i]['Overall']))\n",
    "    data_arr[i] = data_arr[i].drop(columns=['Overall', 'Best Position', 'Positions'])"
   ]
  },
  {
   "cell_type": "code",
   "execution_count": 105,
   "metadata": {},
   "outputs": [],
   "source": [
    "for i in range(len(data_arr)):\n",
    "    data_arr[i] = np.array(pd.DataFrame(data_arr[i].values, dtype='float32'))"
   ]
  },
  {
   "cell_type": "code",
   "execution_count": 106,
   "metadata": {},
   "outputs": [
    {
     "data": {
      "text/plain": [
       "array([[79., 60., 80., ..., 54., 77., 71.],\n",
       "       [79., 70., 78., ..., 67., 88., 86.],\n",
       "       [67., 46., 89., ..., 41., 67., 59.],\n",
       "       ...,\n",
       "       [62., 51., 61., ..., 34., 59., 56.],\n",
       "       [65., 59., 66., ..., 65., 66., 68.],\n",
       "       [60., 45., 60., ..., 68., 62., 51.]], dtype=float32)"
      ]
     },
     "execution_count": 106,
     "metadata": {},
     "output_type": "execute_result"
    }
   ],
   "source": [
    "data_arr[0]"
   ]
  },
  {
   "cell_type": "code",
   "execution_count": 107,
   "metadata": {},
   "outputs": [],
   "source": [
    "data_arr = np.array(data_arr)\n",
    "y_arr = np.array(y_arr)"
   ]
  },
  {
   "cell_type": "code",
   "execution_count": 108,
   "metadata": {},
   "outputs": [],
   "source": [
    "models = []\n",
    "for i in range(len(data_arr)):\n",
    "    models.append(Lasso(alpha=1e-10, fit_intercept=False,max_iter=10e6,positive=True))"
   ]
  },
  {
   "cell_type": "code",
   "execution_count": 109,
   "metadata": {},
   "outputs": [],
   "source": [
    "for i in range(len(models)):\n",
    "    models[i].fit(X=data_arr[i], y=y_arr[i])"
   ]
  },
  {
   "cell_type": "code",
   "execution_count": 110,
   "metadata": {},
   "outputs": [
    {
     "name": "stdout",
     "output_type": "stream",
     "text": [
      "CAM: 0.9910495044616903\n",
      "CB: 0.9905967151566691\n",
      "CDM: 0.9882131061493309\n",
      "CF: 0.9957783506463022\n",
      "CM: 0.9946036238266012\n",
      "GK: 0.9986437434860534\n",
      "LB: 0.9971140781593028\n",
      "LM: 0.9861673679379225\n",
      "LW: 0.9942362245915716\n",
      "LWB: 0.9958261652523136\n",
      "RB: 0.9962240701695041\n",
      "RM: 0.984673971746708\n",
      "RW: 0.9909846268540896\n",
      "RWB: 0.9947685004445312\n",
      "ST: 0.9936332935564892\n"
     ]
    }
   ],
   "source": [
    "for i in range(len(models)):\n",
    "    print (unq_positions[i], end=': ')\n",
    "    print (models[i].score(X=data_arr[i], y=y_arr[i]))"
   ]
  },
  {
   "cell_type": "code",
   "execution_count": 111,
   "metadata": {},
   "outputs": [],
   "source": [
    "predictions_arr = []\n",
    "for i in range(len(models)):\n",
    "    predictions_arr.append(models[i].predict(X=data_arr[i]))"
   ]
  },
  {
   "cell_type": "code",
   "execution_count": 112,
   "metadata": {},
   "outputs": [
    {
     "name": "stderr",
     "output_type": "stream",
     "text": [
      "No handles with labels found to put in legend.\n"
     ]
    },
    {
     "data": {
      "image/png": "[encoded data removed]",
      "text/plain": [
       "<Figure size 720x720 with 15 Axes>"
      ]
     },
     "metadata": {
      "needs_background": "light"
     },
     "output_type": "display_data"
    }
   ],
   "source": [
    "fig, axes = plt.subplots(5, 3, sharex='col', sharey='row', figsize=(10,10))\n",
    "count = -1\n",
    "for r in range(5):\n",
    "    for c in range(3):\n",
    "        count += 1\n",
    "        ax = axes[r, c]\n",
    "        sns.scatterplot(x=y_arr[count], y=predictions_arr[count], ax=ax)\n",
    "        ax.set_title(unq_positions[count])\n",
    "plt.legend()\n",
    "plt.tight_layout()\n",
    "plt.show()"
   ]
  },
  {
   "cell_type": "code",
   "execution_count": 113,
   "metadata": {},
   "outputs": [
    {
     "name": "stdout",
     "output_type": "stream",
     "text": [
      "CAM: \n",
      "Acceleration: 2.97292%\n",
      "Aggression: 0.14726%\n",
      "Agility: 1.48448%\n",
      "Balance: 0.86626%\n",
      "Ball Control: 14.73389%\n",
      "Crossing: 1.81421%\n",
      "Dribbling: 13.30512%\n",
      "FK Accuracy: 0.38457%\n",
      "Finishing: 6.38787%\n",
      "GK Handling: 1.05228%\n",
      "GK Kicking: 0.59038%\n",
      "GK Positioning: 0.04888%\n",
      "GK Reflexes: 0.03888%\n",
      "Heading Accuracy: 0.61427%\n",
      "Jumping: 0.00980%\n",
      "Long Passing: 3.59432%\n",
      "Long Shots: 3.95858%\n",
      "Penalties: 0.10723%\n",
      "Positioning: 8.19935%\n",
      "Reactions: 6.61150%\n",
      "Short Passing: 13.32040%\n",
      "Sprint Speed: 3.02476%\n",
      "Stamina: 0.97966%\n",
      "Vision: 15.75312%\n",
      "CB: \n",
      "Aggression: 5.03099%\n",
      "Ball Control: 1.97782%\n",
      "Composure: 0.53034%\n",
      "GK Diving: 0.21298%\n",
      "Heading Accuracy: 11.19195%\n",
      "Interceptions: 14.13016%\n",
      "Jumping: 3.49638%\n",
      "Marking: 14.55960%\n",
      "Reactions: 4.30106%\n",
      "Short Passing: 4.77079%\n",
      "Sliding Tackle: 10.38923%\n",
      "Sprint Speed: 1.79044%\n",
      "Standing Tackle: 17.98517%\n",
      "Strength: 9.63310%\n",
      "CDM: \n",
      "Aggression: 3.92103%\n",
      "Ball Control: 10.66081%\n",
      "Composure: 0.52400%\n",
      "FK Accuracy: 0.13007%\n",
      "GK Kicking: 0.88139%\n",
      "GK Positioning: 0.48986%\n",
      "Heading Accuracy: 0.26276%\n",
      "Interceptions: 13.14891%\n",
      "Long Passing: 7.69930%\n",
      "Marking: 10.14807%\n",
      "Reactions: 7.14372%\n",
      "Short Passing: 14.03644%\n",
      "Sliding Tackle: 4.78877%\n",
      "Stamina: 6.12132%\n",
      "Standing Tackle: 12.72371%\n",
      "Strength: 3.72340%\n",
      "Vision: 3.34755%\n",
      "Volleys: 0.24889%\n",
      "CF: \n",
      "Acceleration: 7.08052%\n",
      "Aggression: 1.07595%\n",
      "Ball Control: 9.63695%\n",
      "Composure: 1.17503%\n",
      "Crossing: 0.66443%\n",
      "Dribbling: 7.38686%\n",
      "Finishing: 15.99421%\n",
      "GK Kicking: 3.22392%\n",
      "Heading Accuracy: 7.33433%\n",
      "Jumping: 0.06147%\n",
      "Long Shots: 1.76105%\n",
      "Positioning: 11.32771%\n",
      "Reactions: 8.65739%\n",
      "Short Passing: 7.07271%\n",
      "Shot Power: 6.81364%\n",
      "Sprint Speed: 2.64396%\n",
      "Strength: 3.76997%\n",
      "Vision: 2.46434%\n",
      "Volleys: 1.85556%\n",
      "CM: \n",
      "Acceleration: 1.60083%\n",
      "Aggression: 0.59202%\n",
      "Agility: 0.24149%\n",
      "Ball Control: 12.94553%\n",
      "Composure: 0.26274%\n",
      "Dribbling: 8.67244%\n",
      "Finishing: 2.78202%\n",
      "GK Handling: 0.66022%\n",
      "Heading Accuracy: 0.65918%\n",
      "Interceptions: 4.13649%\n",
      "Long Passing: 8.59743%\n",
      "Long Shots: 3.26914%\n",
      "Marking: 0.22686%\n",
      "Positioning: 6.31137%\n",
      "Reactions: 8.75034%\n",
      "Short Passing: 19.15053%\n",
      "Sprint Speed: 0.00223%\n",
      "Stamina: 5.01187%\n",
      "Standing Tackle: 2.95804%\n",
      "Strength: 0.04253%\n",
      "Vision: 13.12670%\n",
      "GK: \n",
      "Aggression: 0.25613%\n",
      "Balance: 0.18643%\n",
      "Composure: 0.02187%\n",
      "GK Diving: 20.73612%\n",
      "GK Handling: 21.03689%\n",
      "GK Kicking: 4.76618%\n",
      "GK Positioning: 19.55566%\n",
      "GK Reflexes: 21.62690%\n",
      "Jumping: 0.11848%\n",
      "Marking: 0.01533%\n",
      "Reactions: 10.44306%\n",
      "Shot Power: 0.74231%\n",
      "Sliding Tackle: 0.07505%\n",
      "Strength: 0.37767%\n",
      "Vision: 0.04193%\n",
      "LB: \n",
      "Acceleration: 5.16916%\n",
      "Balance: 0.24493%\n",
      "Ball Control: 5.95191%\n",
      "Crossing: 8.60311%\n",
      "Dribbling: 0.33085%\n",
      "FK Accuracy: 0.12368%\n",
      "GK Kicking: 0.62586%\n",
      "GK Positioning: 1.17331%\n",
      "Heading Accuracy: 4.31109%\n",
      "Interceptions: 12.46297%\n",
      "Jumping: 0.17036%\n",
      "Long Shots: 0.11387%\n",
      "Marking: 8.08701%\n",
      "Penalties: 0.19094%\n",
      "Reactions: 8.24445%\n",
      "Short Passing: 6.37208%\n",
      "Sliding Tackle: 12.99595%\n",
      "Sprint Speed: 6.42657%\n",
      "Stamina: 7.51703%\n",
      "Standing Tackle: 10.79160%\n",
      "Strength: 0.09327%\n",
      "LM: \n",
      "Acceleration: 7.11748%\n",
      "Agility: 0.97506%\n",
      "Balance: 0.21210%\n",
      "Ball Control: 9.90650%\n",
      "Crossing: 10.35701%\n",
      "Dribbling: 13.99899%\n",
      "Finishing: 7.94525%\n",
      "GK Diving: 1.69970%\n",
      "GK Handling: 0.38825%\n",
      "GK Kicking: 1.07422%\n",
      "GK Positioning: 0.42805%\n",
      "Heading Accuracy: 0.94404%\n",
      "Jumping: 0.35288%\n",
      "Long Passing: 4.41300%\n",
      "Penalties: 0.55260%\n",
      "Positioning: 8.49616%\n",
      "Reactions: 6.57335%\n",
      "Short Passing: 9.25354%\n",
      "Shot Power: 0.54031%\n",
      "Sprint Speed: 5.41383%\n",
      "Stamina: 2.84394%\n",
      "Vision: 6.44172%\n",
      "Volleys: 0.07202%\n",
      "LW: \n",
      "Acceleration: 5.83292%\n",
      "Agility: 2.17581%\n",
      "Balance: 0.01119%\n",
      "Ball Control: 13.78620%\n",
      "Crossing: 8.21962%\n",
      "Dribbling: 15.41174%\n",
      "FK Accuracy: 0.19827%\n",
      "Finishing: 8.50756%\n",
      "GK Diving: 1.11437%\n",
      "GK Positioning: 0.81305%\n",
      "GK Reflexes: 0.02921%\n",
      "Heading Accuracy: 0.22058%\n",
      "Interceptions: 0.27719%\n",
      "Jumping: 0.02467%\n",
      "Long Passing: 2.58403%\n",
      "Long Shots: 2.19221%\n",
      "Marking: 0.03017%\n",
      "Positioning: 9.23143%\n",
      "Reactions: 6.01646%\n",
      "Short Passing: 9.72712%\n",
      "Sprint Speed: 5.55846%\n",
      "Stamina: 1.75904%\n",
      "Strength: 0.58088%\n",
      "Vision: 5.69783%\n",
      "LWB: \n",
      "Acceleration: 5.79927%\n",
      "Aggression: 0.39171%\n",
      "Ball Control: 5.10309%\n",
      "Composure: 0.92399%\n",
      "Crossing: 9.08167%\n",
      "Dribbling: 0.82052%\n",
      "GK Kicking: 2.81620%\n",
      "Heading Accuracy: 3.17811%\n",
      "Interceptions: 11.71628%\n",
      "Jumping: 0.34597%\n",
      "Marking: 8.34926%\n",
      "Reactions: 7.82467%\n",
      "Short Passing: 6.88080%\n",
      "Sliding Tackle: 13.82595%\n",
      "Sprint Speed: 5.45055%\n",
      "Stamina: 7.88093%\n",
      "Standing Tackle: 9.60008%\n",
      "Strength: 0.01096%\n",
      "RB: \n",
      "Acceleration: 5.18487%\n",
      "Agility: 0.23168%\n",
      "Balance: 0.22054%\n",
      "Ball Control: 6.01065%\n",
      "Composure: 0.26004%\n",
      "Crossing: 11.23017%\n",
      "Dribbling: 0.06093%\n",
      "FK Accuracy: 0.16672%\n",
      "GK Handling: 1.29650%\n",
      "GK Kicking: 0.21148%\n",
      "Heading Accuracy: 3.50974%\n",
      "Interceptions: 12.60098%\n",
      "Marking: 7.47472%\n",
      "Positioning: 0.87299%\n",
      "Reactions: 7.05377%\n",
      "Short Passing: 5.57747%\n",
      "Sliding Tackle: 12.61239%\n",
      "Sprint Speed: 5.76320%\n",
      "Stamina: 7.52397%\n",
      "Standing Tackle: 11.33677%\n",
      "Strength: 0.80044%\n",
      "RM: \n",
      "Acceleration: 6.40372%\n",
      "Agility: 0.11219%\n",
      "Balance: 0.62818%\n",
      "Ball Control: 10.57197%\n",
      "Crossing: 12.86727%\n",
      "Dribbling: 15.40907%\n",
      "Finishing: 5.79793%\n",
      "GK Diving: 2.47500%\n",
      "GK Handling: 0.22320%\n",
      "GK Kicking: 0.65875%\n",
      "GK Reflexes: 1.15096%\n",
      "Long Passing: 2.37516%\n",
      "Long Shots: 1.43881%\n",
      "Penalties: 0.36735%\n",
      "Positioning: 7.50466%\n",
      "Reactions: 6.12686%\n",
      "Short Passing: 10.42040%\n",
      "Shot Power: 0.29799%\n",
      "Sprint Speed: 5.56074%\n",
      "Stamina: 3.82892%\n",
      "Vision: 5.78091%\n",
      "RW: \n",
      "Acceleration: 6.64212%\n",
      "Aggression: 0.32278%\n",
      "Agility: 1.16862%\n",
      "Ball Control: 15.06742%\n",
      "Composure: 0.35910%\n",
      "Crossing: 9.07916%\n",
      "Dribbling: 15.17627%\n",
      "Finishing: 8.50625%\n",
      "GK Handling: 0.96760%\n",
      "GK Kicking: 0.01680%\n",
      "GK Reflexes: 0.20976%\n",
      "Jumping: 0.04950%\n",
      "Long Passing: 1.60150%\n",
      "Long Shots: 1.89961%\n",
      "Marking: 0.09334%\n",
      "Penalties: 0.58485%\n",
      "Positioning: 8.36589%\n",
      "Reactions: 6.46947%\n",
      "Short Passing: 8.68735%\n",
      "Shot Power: 0.20374%\n",
      "Sprint Speed: 5.77098%\n",
      "Stamina: 1.50362%\n",
      "Strength: 0.43223%\n",
      "Vision: 6.82205%\n",
      "RWB: \n",
      "Acceleration: 7.56240%\n",
      "Ball Control: 5.76573%\n",
      "Composure: 1.10957%\n",
      "Crossing: 11.46040%\n",
      "Curve: 0.12976%\n",
      "Dribbling: 0.96926%\n",
      "GK Diving: 0.84031%\n",
      "GK Handling: 0.23314%\n",
      "GK Positioning: 0.66911%\n",
      "Heading Accuracy: 2.61080%\n",
      "Interceptions: 12.35893%\n",
      "Marking: 8.07248%\n",
      "Penalties: 0.17466%\n",
      "Reactions: 7.67055%\n",
      "Short Passing: 5.10339%\n",
      "Sliding Tackle: 10.90946%\n",
      "Sprint Speed: 4.45918%\n",
      "Stamina: 7.92206%\n",
      "Standing Tackle: 11.97337%\n",
      "Strength: 0.00545%\n",
      "ST: \n",
      "Acceleration: 3.18671%\n",
      "Ball Control: 8.70349%\n",
      "Composure: 0.27969%\n",
      "Dribbling: 7.63365%\n",
      "Finishing: 19.85245%\n",
      "GK Diving: 0.32932%\n",
      "GK Kicking: 0.54377%\n",
      "GK Reflexes: 0.26034%\n",
      "Heading Accuracy: 9.74099%\n",
      "Jumping: 0.30789%\n",
      "Long Shots: 2.95451%\n",
      "Penalties: 0.86901%\n",
      "Positioning: 13.94093%\n",
      "Reactions: 8.52891%\n",
      "Short Passing: 3.38653%\n",
      "Shot Power: 7.57914%\n",
      "Sprint Speed: 4.93600%\n",
      "Strength: 4.98862%\n",
      "Volleys: 1.97805%\n"
     ]
    }
   ],
   "source": [
    "cols = player_data.drop(columns=['Best Position', 'Overall', 'Positions']).columns\n",
    "for ind, pos in enumerate(unq_positions):\n",
    "    print (pos, end=': \\n')\n",
    "    sum_weights = sum(models[ind].coef_)\n",
    "    for index, weight in enumerate(models[ind].coef_):\n",
    "        if (weight > 0):\n",
    "            print ('{}: {:.5f}%'.format(cols[index],100*(weight/sum_weights)))"
   ]
  },
  {
   "cell_type": "code",
   "execution_count": 74,
   "metadata": {},
   "outputs": [
    {
     "data": {
      "text/plain": [
       "1.0774261"
      ]
     },
     "execution_count": 74,
     "metadata": {},
     "output_type": "execute_result"
    }
   ],
   "source": [
    "np.sum(models[0].coef_)"
   ]
  },
  {
   "cell_type": "code",
   "execution_count": 121,
   "metadata": {},
   "outputs": [],
   "source": [
    "row = np.ones(shape=(1,34))*99"
   ]
  },
  {
   "cell_type": "code",
   "execution_count": 123,
   "metadata": {},
   "outputs": [
    {
     "name": "stdout",
     "output_type": "stream",
     "text": [
      "As a CAM: 101.54850735323271\n",
      "As a CB: 99.914734326303\n",
      "As a CDM: 101.1647854159819\n",
      "As a CF: 103.67354273912497\n",
      "As a CM: 101.20413929647111\n",
      "As a GK: 101.3515060312202\n",
      "As a LB: 102.29483800887829\n",
      "As a LM: 103.80385679175379\n",
      "As a LW: 101.75325384910684\n",
      "As a LWB: 103.06519274612947\n",
      "As a RB: 102.05915509129409\n",
      "As a RM: 103.66811680630781\n",
      "As a RW: 100.71814452782564\n",
      "As a RWB: 101.83654498806936\n",
      "As a ST: 101.22583754430525\n"
     ]
    }
   ],
   "source": [
    "for index, model in enumerate(models):\n",
    "    print ('As a {}: {}'.format(unq_positions[index], model.predict(row)[0]))"
   ]
  },
  {
   "cell_type": "code",
   "execution_count": null,
   "metadata": {},
   "outputs": [],
   "source": []
  }
 ],
 "metadata": {
  "kernelspec": {
   "display_name": "Python 3",
   "language": "python",
   "name": "python3"
  },
  "language_info": {
   "codemirror_mode": {
    "name": "ipython",
    "version": 3
   },
   "file_extension": ".py",
   "mimetype": "text/x-python",
   "name": "python",
   "nbconvert_exporter": "python",
   "pygments_lexer": "ipython3",
   "version": "3.7.3"
  }
 },
 "nbformat": 4,
 "nbformat_minor": 2
}
